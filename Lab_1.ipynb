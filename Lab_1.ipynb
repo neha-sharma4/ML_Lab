import pandas as pd
import numpy as np
from sklearn.model_selection import train_test_split, KFold, cross_val_score
from sklearn.linear_model import LogisticRegression
from sklearn.metrics import accuracy_score, classification_report
from sklearn.preprocessing import LabelEncoder

df = pd.read_csv("/content/customer_dataset_1500_records.csv")
df = df.drop("customer_id", axis=1)

categorical_cols = ["product_category", "region", "marketing_channel"]
label_encoders = {}

for col in categorical_cols:
    le = LabelEncoder()
    df[col] = le.fit_transform(df[col])
    label_encoders[col] = le

X = df.drop("will_purchase", axis=1)
y = df["will_purchase"]

X_train, X_test, y_train, y_test = train_test_split(
    X, y, test_size=0.2, random_state=42, stratify=y
)

model = LogisticRegression(max_iter=1000)
model.fit(X_train, y_train)

y_pred = model.predict(X_test)
print("🔹 Train/Test Split Results")
print("Accuracy:", accuracy_score(y_test, y_pred))
print("Classification Report:\n", classification_report(y_test, y_pred))

kf = KFold(n_splits=5, shuffle=True, random_state=42)
cv_model = LogisticRegression(max_iter=1000)

cv_scores = cross_val_score(cv_model, X, y, cv=kf, scoring='accuracy')

print("\n🔹 K-Fold Cross Validation Results")
print("Scores for each fold:", cv_scores)
print("Average CV accuracy:", cv_scores.mean())
print("Standard Deviation of CV accuracy:", cv_scores.std())
